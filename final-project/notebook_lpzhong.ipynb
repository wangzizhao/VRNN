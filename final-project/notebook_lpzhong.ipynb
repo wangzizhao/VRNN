{
 "cells": [
  {
   "cell_type": "code",
   "execution_count": 1,
   "metadata": {},
   "outputs": [],
   "source": [
    "from IPython.display import Image"
   ]
  },
  {
   "cell_type": "markdown",
   "metadata": {},
   "source": [
    "## VRNN Model"
   ]
  },
  {
   "cell_type": "markdown",
   "metadata": {},
   "source": [
    "### Model"
   ]
  },
  {
   "cell_type": "markdown",
   "metadata": {},
   "source": [
    "### Trainer"
   ]
  },
  {
   "cell_type": "markdown",
   "metadata": {},
   "source": [
    "### Experiments\n",
    "At the beginning, our team generated data using the transform function f and emission function g we set. We trained our model on the data generated and compared the true value to the prediction value to check whether our model could learn f and g well.\n",
    "\n",
    "The first f and g model we let our VRNN model learn is:<br>\n",
    "f: linear model with MVN distribution. Linear param: [[0.99,0.01],[0.2,0.8]], MVN sigma: eye(2)<br>\n",
    "g: linear model with MVN distribution. Linear param: [[2,1],[1,2]], MVN sigma: eye(2)<br>\n",
    "\n",
    "We set the length of time series to be 100 and trained our model for 100 epoches.<br>\n",
    "Our training and testing data generated is as below:"
   ]
  },
  {
   "cell_type": "markdown",
   "metadata": {},
   "source": [
    "<table><tr>\n",
    "<td> <img src=\"experiments/linear/True_1/training_train/training_idx_0.png\" alt=\"Drawing\" style=\"float:left, width: 400px;\"/> </td>\n",
    "<td> <img src=\"experiments/linear/True_1/training_test/training_idx_0.png\" alt=\"Drawing\" style=\"float:left, width: 400px;\"/> </td>\n",
    "</tr></table>"
   ]
  },
  {
   "cell_type": "markdown",
   "metadata": {},
   "source": [
    "<br>\n",
    "<br>\n",
    "The predicted hidden variables for training and testing are:<br>\n",
    "<table><tr>\n",
    "<td> <img src=\"experiments/linear/True_1/hidden_result_2dtrain/hidden_idx_0.png\" alt=\"Drawing\" style=\"float:left, width: 400px;\"/> </td>\n",
    "<td> <img src=\"experiments/linear/True_1/hidden_result_2dtest/hidden_idx_0.png\" alt=\"Drawing\" style=\"float:left, width: 400px;\"/> </td>\n",
    "</tr></table>"
   ]
  },
  {
   "cell_type": "markdown",
   "metadata": {},
   "source": [
    "<br>\n",
    "<br>\n",
    "The comparsion between true value and predicted value for training hidden:"
   ]
  },
  {
   "cell_type": "markdown",
   "metadata": {},
   "source": [
    "<table><tr>\n",
    "<td> <img src=\"experiments/linear/True_1/hidden_compare_train/hidden_dim_0_idx_0.png\" alt=\"Drawing\" style=\"float:left, width: 400px;\"/> </td>\n",
    "<td> <img src=\"experiments/linear/True_1/hidden_compare_train/hidden_dim_1_idx_0.png\" alt=\"Drawing\" style=\"float:left, width: 400px;\"/> </td>\n",
    "</tr></table>"
   ]
  },
  {
   "cell_type": "markdown",
   "metadata": {},
   "source": [
    "<br>\n",
    "<br>\n",
    "The comparison between true and predicted value for testing hidden:<br>\n",
    "<table><tr>\n",
    "<td> <img src=\"experiments/linear/True_1/hidden_compare_test/hidden_dim_0_idx_0.png\" alt=\"Drawing\" style=\"float:left, width: 400px;\"/> </td>\n",
    "<td> <img src=\"experiments/linear/True_1/hidden_compare_test/hidden_dim_1_idx_0.png\" alt=\"Drawing\" style=\"float:left, width: 400px;\"/> </td>\n",
    "</tr></table>"
   ]
  },
  {
   "cell_type": "markdown",
   "metadata": {},
   "source": [
    "<br>\n",
    "<br>\n",
    "The comparison between true and predicted value for training observation:<br>\n",
    "<table><tr>\n",
    "<td> <img src=\"experiments/linear/True_1/obs_compare_train/obs_dim_0_idx_0.png\" alt=\"Drawing\" style=\"float:left, width: 400px;\"/> </td>\n",
    "<td> <img src=\"experiments/linear/True_1/obs_compare_train/obs_dim_1_idx_0.png\" alt=\"Drawing\" style=\"float:left, width: 400px;\"/> </td>\n",
    "</tr></table>"
   ]
  },
  {
   "cell_type": "markdown",
   "metadata": {},
   "source": [
    "<br>\n",
    "<br>\n",
    "The comparison between true and predicted value for testing observation:<br>\n",
    "<table><tr>\n",
    "<td> <img src=\"experiments/linear/True_1/obs_compare_test/obs_dim_0_idx_0.png\" alt=\"Drawing\" style=\"float:left, width: 400px;\"/> </td>\n",
    "<td> <img src=\"experiments/linear/True_1/obs_compare_test/obs_dim_1_idx_0.png\" alt=\"Drawing\" style=\"float:left, width: 400px;\"/> </td>\n",
    "</tr></table>"
   ]
  },
  {
   "cell_type": "markdown",
   "metadata": {},
   "source": [
    "<br>\n",
    "<br>\n",
    "The loss and MSE during training is:<br>\n",
    "<img src=\"experiments/linear/True_1/loss_and_MSE.png\" alt=\"Drawing\" style=\"float:left, width: 400px\"/>"
   ]
  },
  {
   "cell_type": "code",
   "execution_count": null,
   "metadata": {},
   "outputs": [],
   "source": []
  }
 ],
 "metadata": {
  "kernelspec": {
   "display_name": "Python 3",
   "language": "python",
   "name": "python3"
  },
  "language_info": {
   "codemirror_mode": {
    "name": "ipython",
    "version": 3
   },
   "file_extension": ".py",
   "mimetype": "text/x-python",
   "name": "python",
   "nbconvert_exporter": "python",
   "pygments_lexer": "ipython3",
   "version": "3.6.3"
  }
 },
 "nbformat": 4,
 "nbformat_minor": 2
}
