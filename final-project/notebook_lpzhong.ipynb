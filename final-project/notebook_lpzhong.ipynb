{
 "cells": [
  {
   "cell_type": "markdown",
   "metadata": {},
   "source": [
    "### Goal\n",
    "Time series forecasting is an important area of machine learning. There are so many prediction problems in different fields that involve a time component which needs to be solved using time series forecasting, like economic, weather, retail sales and stock price in this post.<br>\n",
    "\n",
    "Prediction of stcok price is always a hard task because there are too many factors that may affect it and most of them are hard to be extracted and quantified as number. However, with the use of VRNN Model, we can let the model learn what factors are behind the price by itself with just observation i.e. stock prices given.<br>\n",
    "\n",
    "In our experiment, we applied VRNN Model on the stock price time series and searched for possible improvement to further increase the accuracy of the prediction."
   ]
  },
  {
   "cell_type": "markdown",
   "metadata": {},
   "source": [
    "### Data\n",
    "There are two sources of data in our project. One is the data from simulation. We generated data from transition distribution $f$ and emission distribution $g$ we set. The dimension of hidden variable and observation varies from distribution to distribution.<br>\n",
    "\n",
    "The other is the stock data from different stock indexes like Dow Jones, Nasdaq and S&P 500. For each index, we have the data for the last 10 years, which is around 2,500 timestamps. For each timestamp, the data has six dimensions which include Open, High, Low, Close, Adj Close and Volume. When training and testing, we randomly chose time series of length 100 from the whole data set of each index. The length is set to 100 because it is long enough for the model to learn and short enough to avoid consuming too much computational resources.  \n"
   ]
  },
  {
   "cell_type": "markdown",
   "metadata": {},
   "source": [
    "## VRNN Model"
   ]
  },
  {
   "cell_type": "markdown",
   "metadata": {},
   "source": [
    "### Model"
   ]
  },
  {
   "cell_type": "markdown",
   "metadata": {},
   "source": [
    "### Trainer"
   ]
  },
  {
   "cell_type": "markdown",
   "metadata": {},
   "source": [
    "### Experiments\n",
    "As mentioned above, we generated our simulation data with different sets of transition distribution $f$ and emission distribution $g$. We started from simple linear distirbutions to complicated non-linear ones. We compared the true value to the prediction value to check whether our model could learn $f$ and $g$ well.\n",
    "\n",
    "The first f and g distribution we let our VRNN model learn is:<br>\n",
    "$f$: linear transformation with MVN distribution. Linear param: [[0.99,0.01],[0.2,0.8]], MVN sigma: eye(2)<br>\n",
    "$g$: linear transformation with MVN distribution. Linear param: [[2,1],[1,2]], MVN sigma: eye(2)<br>\n",
    "\n",
    "The other settings are:<br>\n",
    "Hidden state $z_t$ are 2D. <br>\n",
    "Observation $x_t$ are 2D. <br>\n",
    "initial distribution $\\nu(z_1)$ is $\\text{Uniform}(-3,3)$ for each dimension of hidden states.<br>\n",
    "Length of time series is 100.<br>\n",
    "Num of Epoch is 100.<br>\n",
    "\n",
    "Our training and testing data generated is as below:"
   ]
  },
  {
   "cell_type": "markdown",
   "metadata": {},
   "source": [
    "<table><tr>\n",
    "<td> <img src=\"experiments/linear/True_1/training_train/training_idx_15.png\" alt=\"Drawing\" style=\"width: 300px;\"/> </td>\n",
    "<td> <img src=\"experiments/linear/True_1/training_test/training_idx_1.png\" alt=\"Drawing\" style=\"width: 300px;\"/> </td>\n",
    "</tr></table>"
   ]
  },
  {
   "cell_type": "markdown",
   "metadata": {},
   "source": [
    "<br>\n",
    "The loss and MSE during training is:<br>\n",
    "<img src=\"experiments/linear/True_1/loss_and_MSE.png\" alt=\"Drawing\" style=\"width: 300px\"/>"
   ]
  },
  {
   "cell_type": "markdown",
   "metadata": {},
   "source": [
    "<br>\n",
    "The comparsion between true value and predicted value for hidden variables of training data set:"
   ]
  },
  {
   "cell_type": "markdown",
   "metadata": {},
   "source": [
    "<table><tr>\n",
    "<td> <img src=\"experiments/linear/True_1/hidden_compare_train/hidden_dim_0_idx_15.png\" alt=\"Drawing\" style=\"width: 300px;\"/> </td>\n",
    "<td> <img src=\"experiments/linear/True_1/hidden_compare_train/hidden_dim_1_idx_15.png\" alt=\"Drawing\" style=\"width: 300px;\"/> </td>\n",
    "</tr></table>"
   ]
  },
  {
   "cell_type": "markdown",
   "metadata": {},
   "source": [
    "<br>\n",
    "The comparison between true and predicted value for hidden variable of testing data set:<br>\n",
    "<table><tr>\n",
    "<td> <img src=\"experiments/linear/True_1/hidden_compare_test/hidden_dim_0_idx_1.png\" alt=\"Drawing\" style=\"width: 300px;\"/> </td>\n",
    "<td> <img src=\"experiments/linear/True_1/hidden_compare_test/hidden_dim_1_idx_1.png\" alt=\"Drawing\" style=\"width: 300px;\"/> </td>\n",
    "</tr></table>"
   ]
  },
  {
   "cell_type": "markdown",
   "metadata": {},
   "source": [
    "<br>\n",
    "The comparison between true and predicted value for observation of training data set:<br>\n",
    "<table><tr>\n",
    "<td> <img src=\"experiments/linear/True_1/obs_compare_train/obs_dim_0_idx_15.png\" alt=\"Drawing\" style=\"width: 300px;\"/> </td>\n",
    "<td> <img src=\"experiments/linear/True_1/obs_compare_train/obs_dim_1_idx_15.png\" alt=\"Drawing\" style=\"width: 300px;\"/> </td>\n",
    "</tr></table>"
   ]
  },
  {
   "cell_type": "markdown",
   "metadata": {},
   "source": [
    "<br>\n",
    "The comparison between true and predicted value for observation of testing data set:<br>\n",
    "<table><tr>\n",
    "<td> <img src=\"experiments/linear/True_1/obs_compare_test/obs_dim_0_idx_1.png\" alt=\"Drawing\" style=\"width: 300px;\"/> </td>\n",
    "<td> <img src=\"experiments/linear/True_1/obs_compare_test/obs_dim_1_idx_1.png\" alt=\"Drawing\" style=\"width: 300px;\"/> </td>\n",
    "</tr></table>"
   ]
  },
  {
   "cell_type": "markdown",
   "metadata": {},
   "source": [
    "<br>\n",
    "<br>\n",
    "The second $f$ and $g$ distribution we let our VRNN model learn is:<br>\n",
    "$f$: [FitzHugh–Nagumo model](https://en.wikipedia.org/wiki/FitzHugh%E2%80%93Nagumo_model) transformation and determinisitic delta distribution. Fhn param: (1.0, 0.95, 0.05, 1.0, 0.15)<br>\n",
    "$g$: linear transformation with MVN distribution. Linear param: [[0,1]], MVN sigma: 0.2 * eye(1)<br>\n",
    "\n",
    "The other settings are:<br>\n",
    "Hidden state $z_t$ are 2D. <br>\n",
    "Observation $x_t$ are 1D. <br>\n",
    "initial distribution $\\nu(z_1)$ is $\\text{Uniform}(-3,3)$ for each dimension of hidden states.<br>\n",
    "Length of time series is 100.<br>\n",
    "Num of Epoch is 100.<br>\n",
    "\n",
    "Our training and testing data generated is as below:"
   ]
  },
  {
   "cell_type": "markdown",
   "metadata": {},
   "source": [
    "<table><tr>\n",
    "<td> <img src=\"experiments/fhn/[0,1]_True_1/training_train/training_idx_0.png\" alt=\"Drawing\" style=\"width: 300px;\"/> </td>\n",
    "<td> <img src=\"experiments/fhn/[0,1]_True_1/training_test/training_idx_0.png\" alt=\"Drawing\" style=\"width: 300px;\"/> </td>\n",
    "</tr></table>"
   ]
  },
  {
   "cell_type": "markdown",
   "metadata": {},
   "source": [
    "<br>\n",
    "The loss and MSE during training is:<br>\n",
    "<img src=\"experiments/fhn/[0,1]_True_1/loss_and_MSE.png\" alt=\"Drawing\" style=\"width: 300px\"/>"
   ]
  },
  {
   "cell_type": "markdown",
   "metadata": {},
   "source": [
    "<br>\n",
    "The comparsion between true value and predicted value for hidden variables of training data set:"
   ]
  },
  {
   "cell_type": "markdown",
   "metadata": {},
   "source": [
    "<table><tr>\n",
    "<td> <img src=\"experiments/fhn/[0,1]_True_1/hidden_compare_train/hidden_dim_0_idx_0.png\" alt=\"Drawing\" style=\"width: 300px;\"/> </td>\n",
    "<td> <img src=\"experiments/fhn/[0,1]_True_1/hidden_compare_train/hidden_dim_1_idx_0.png\" alt=\"Drawing\" style=\"width: 300px;\"/> </td>\n",
    "</tr></table>"
   ]
  },
  {
   "cell_type": "markdown",
   "metadata": {},
   "source": [
    "<br>\n",
    "The comparison between true and predicted value for hidden variables of testing data set:<br>\n",
    "<table><tr>\n",
    "<td> <img src=\"experiments/fhn/[0,1]_True_1/hidden_compare_test/hidden_dim_0_idx_0.png\" alt=\"Drawing\" style=\"width: 300px;\"/> </td>\n",
    "<td> <img src=\"experiments/fhn/[0,1]_True_1/hidden_compare_test/hidden_dim_1_idx_0.png\" alt=\"Drawing\" style=\"width: 300px;\"/> </td>\n",
    "</tr></table>"
   ]
  },
  {
   "cell_type": "markdown",
   "metadata": {},
   "source": [
    "<br>\n",
    "The comparison for observations of training and testing data set.\n",
    "<table><tr>\n",
    "<td> <img src=\"experiments/fhn/[0,1]_True_1/obs_compare_train/obs_dim_0_idx_0.png\" alt=\"Drawing\" style=\"width: 300px;\"/> </td>\n",
    "<td> <img src=\"experiments/fhn/[0,1]_True_1/obs_compare_test/obs_dim_0_idx_0.png\" alt=\"Drawing\" style=\"width: 300px;\"/> </td>\n",
    "</tr></table>"
   ]
  },
  {
   "cell_type": "markdown",
   "metadata": {},
   "source": [
    "<br>\n",
    "<br>\n",
    "The third $f$ and $g$ distribution we let our VRNN model learn is:<br>\n",
    "$f$: [FitzHugh–Nagumo model](https://en.wikipedia.org/wiki/FitzHugh%E2%80%93Nagumo_model) transformation and determinisitic delta distribution. Fhn param: (1.0, 0.95, 0.05, 1.0, 0.15)<br>\n",
    "$g$: linear transformation with MVN distribution. Linear param: [[1,1]], MVN sigma: 0.2 * eye(1)<br>\n",
    "The only difference from above $f$ and $g$ is the linear param for $g$.<br>\n",
    "\n",
    "The other settings are:<br>\n",
    "Hidden state $z_t$ are 2D. <br>\n",
    "Observation $x_t$ are 1D. <br>\n",
    "initial distribution $\\nu(z_1)$ is $\\text{Uniform}(-3,3)$ for each dimension of hidden states.<br>\n",
    "Length of time series is 100.<br>\n",
    "Num of Epoch is 100.<br>\n",
    "\n",
    "Our training and testing data generated is as below:"
   ]
  },
  {
   "cell_type": "markdown",
   "metadata": {},
   "source": [
    "<table><tr>\n",
    "<td> <img src=\"experiments/fhn/[1,1]_True_1/training_train/training_idx_0.png\" alt=\"Drawing\" style=\"width: 300px;\"/> </td>\n",
    "<td> <img src=\"experiments/fhn/[1,1]_True_1/training_test/training_idx_0.png\" alt=\"Drawing\" style=\"width: 300px;\"/> </td>\n",
    "</tr></table>"
   ]
  },
  {
   "cell_type": "markdown",
   "metadata": {},
   "source": [
    "<br>\n",
    "The loss and MSE during training is:<br>\n",
    "<img src=\"experiments/fhn/[1,1]_True_1/loss_and_MSE.png\" alt=\"Drawing\" style=\"width: 300px\"/>"
   ]
  },
  {
   "cell_type": "markdown",
   "metadata": {},
   "source": [
    "<br>\n",
    "The comparsion between true value and predicted value for hidden variables of training data set:"
   ]
  },
  {
   "cell_type": "markdown",
   "metadata": {},
   "source": [
    "<table><tr>\n",
    "<td> <img src=\"experiments/fhn/[1,1]_True_1/hidden_compare_train/hidden_dim_0_idx_0.png\" alt=\"Drawing\" style=\"width: 300px;\"/> </td>\n",
    "<td> <img src=\"experiments/fhn/[1,1]_True_1/hidden_compare_train/hidden_dim_1_idx_0.png\" alt=\"Drawing\" style=\"width: 300px;\"/> </td>\n",
    "</tr></table>"
   ]
  },
  {
   "cell_type": "markdown",
   "metadata": {},
   "source": [
    "<br>\n",
    "The comparison between true and predicted value for hidden variables of testing data set:<br>\n",
    "<table><tr>\n",
    "<td> <img src=\"experiments/fhn/[1,1]_True_1/hidden_compare_test/hidden_dim_0_idx_0.png\" alt=\"Drawing\" style=\"width: 300px;\"/> </td>\n",
    "<td> <img src=\"experiments/fhn/[1,1]_True_1/hidden_compare_test/hidden_dim_1_idx_0.png\" alt=\"Drawing\" style=\"width: 300px;\"/> </td>\n",
    "</tr></table>"
   ]
  },
  {
   "cell_type": "markdown",
   "metadata": {},
   "source": [
    "<br>\n",
    "The comparison for observations of training and testing data set:<br>\n",
    "<table><tr>\n",
    "<td> <img src=\"experiments/fhn/[1,1]_True_1/obs_compare_train/obs_dim_0_idx_0.png\" alt=\"Drawing\" style=\"width: 300px;\"/> </td>\n",
    "<td> <img src=\"experiments/fhn/[1,1]_True_1/obs_compare_test/obs_dim_0_idx_0.png\" alt=\"Drawing\" style=\"width: 300px;\"/> </td>\n",
    "</tr></table>"
   ]
  },
  {
   "cell_type": "markdown",
   "metadata": {},
   "source": [
    "<br>\n",
    "<br>\n",
    "<br>\n",
    "The fourth $f$ and $g$ distribution we let our VRNN model learn is:<br>\n",
    "$f$: [Lorenz](https://en.wikipedia.org/wiki/Lorenz_system#Lorenz_attractor) transformation with deterministic delta distribution. Lorenz param: (10.0, 28.0, 8.0 / 3.0, 0.01)<br>\n",
    "$g$: linear transformation with MVN distribution. Linear param: np.random.randn(3, 3), MVN sigma: 0.2 * eye(3)<br>\n",
    "\n",
    "The other settings are:<br>\n",
    "Hidden state $z_t$ are 3D. <br>\n",
    "Observation $x_t$ are 3D. <br>\n",
    "initial distribution $\\nu(z_1)$ is $\\text{Uniform}(-3,3)$ for each dimension of hidden states.<br>\n",
    "Length of time series is 200.<br>\n",
    "Num of Epoch is 100.<br>\n",
    "\n",
    "Our training and testing data generated is as below:"
   ]
  },
  {
   "cell_type": "markdown",
   "metadata": {},
   "source": [
    "<table><tr>\n",
    "<td> <img src=\"experiments/lorenz/True_1/training_train/training_idx_0.png\" alt=\"Drawing\" style=\"width: 300px;\"/> </td>\n",
    "<td> <img src=\"experiments/lorenz/True_1/training_test/training_idx_0.png\" alt=\"Drawing\" style=\"width: 300px;\"/> </td>\n",
    "</tr></table>"
   ]
  },
  {
   "cell_type": "markdown",
   "metadata": {},
   "source": [
    "<br>\n",
    "The loss and MSE during training is:<br>\n",
    "<img src=\"experiments/lorenz/True_1/loss_and_MSE.png\" alt=\"Drawing\" style=\"width: 300px\"/>"
   ]
  },
  {
   "cell_type": "markdown",
   "metadata": {},
   "source": [
    "<br>\n",
    "The comparsion between true value and predicted value for hidden variables of training data set:"
   ]
  },
  {
   "cell_type": "markdown",
   "metadata": {},
   "source": [
    "<table><tr>\n",
    "<td> <img src=\"experiments/lorenz/True_1/hidden_compare_train/hidden_dim_0_idx_0.png\" alt=\"Drawing\" style=\"width: 300px;\"/> </td>\n",
    "<td> <img src=\"experiments/lorenz/True_1/hidden_compare_train/hidden_dim_1_idx_0.png\" alt=\"Drawing\" style=\"width: 300px;\"/> </td>\n",
    "<td> <img src=\"experiments/lorenz/True_1/hidden_compare_train/hidden_dim_2_idx_0.png\" alt=\"Drawing\" style=\"width: 300px;\"/> </td>\n",
    "</tr></table>"
   ]
  },
  {
   "cell_type": "markdown",
   "metadata": {},
   "source": [
    "<br>\n",
    "<br>\n",
    "The comparison between true and predicted value for hidden variable of testing data set:<br>\n",
    "<table><tr>\n",
    "<td> <img src=\"experiments/lorenz/True_1/hidden_compare_test/hidden_dim_0_idx_0.png\" alt=\"Drawing\" style=\"width: 300px;\"/> </td>\n",
    "<td> <img src=\"experiments/lorenz/True_1/hidden_compare_test/hidden_dim_1_idx_0.png\" alt=\"Drawing\" style=\"width: 300px;\"/> </td>\n",
    "<td> <img src=\"experiments/lorenz/True_1/hidden_compare_test/hidden_dim_2_idx_0.png\" alt=\"Drawing\" style=\"width: 300px;\"/> </td>\n",
    "</tr></table>"
   ]
  },
  {
   "cell_type": "markdown",
   "metadata": {},
   "source": [
    "<br>\n",
    "The comparison between true and predicted value for observations of training data set:<br>\n",
    "<table><tr>\n",
    "<td> <img src=\"experiments/lorenz/True_1/obs_compare_train/obs_dim_0_idx_0.png\" alt=\"Drawing\" style=\"width: 300px;\"/> </td>\n",
    "<td> <img src=\"experiments/lorenz/True_1/obs_compare_train/obs_dim_1_idx_0.png\" alt=\"Drawing\" style=\"width: 300px;\"/> </td>\n",
    "<td> <img src=\"experiments/lorenz/True_1/obs_compare_train/obs_dim_2_idx_0.png\" alt=\"Drawing\" style=\"width: 300px;\"/> </td>\n",
    "</tr></table>"
   ]
  },
  {
   "cell_type": "markdown",
   "metadata": {},
   "source": [
    "<br>\n",
    "The comparison between true and predicted value for observations of testing data set:<br>\n",
    "<table><tr>\n",
    "<td> <img src=\"experiments/lorenz/True_1/obs_compare_test/obs_dim_0_idx_0.png\" alt=\"Drawing\" style=\"width: 300px;\"/> </td>\n",
    "<td> <img src=\"experiments/lorenz/True_1/obs_compare_test/obs_dim_1_idx_0.png\" alt=\"Drawing\" style=\"width: 300px;\"/> </td>\n",
    "<td> <img src=\"experiments/lorenz/True_1/obs_compare_test/obs_dim_2_idx_0.png\" alt=\"Drawing\" style=\"width: 300px;\"/> </td>\n",
    "</tr></table>"
   ]
  },
  {
   "cell_type": "markdown",
   "metadata": {},
   "source": [
    "<br>\n",
    "<br>\n",
    "<br>\n",
    "<br>\n",
    "## Improved Model"
   ]
  },
  {
   "cell_type": "markdown",
   "metadata": {},
   "source": [
    "### Model"
   ]
  },
  {
   "cell_type": "markdown",
   "metadata": {},
   "source": [
    "### Trainer"
   ]
  },
  {
   "cell_type": "markdown",
   "metadata": {},
   "source": [
    "### Experiments"
   ]
  },
  {
   "cell_type": "markdown",
   "metadata": {},
   "source": [
    "After the improvements of the model, we still first let the model learn the $f$ and $g$ from generated data.<br>\n",
    "The $f$ and $g$ sets we chose are the same as specified in the VRNN Experiemnts part.<br>\n"
   ]
  },
  {
   "cell_type": "markdown",
   "metadata": {},
   "source": [
    "For $f$:linear, $g$:linear:<br>\n",
    "Our training and testing data generated is as below:"
   ]
  },
  {
   "cell_type": "markdown",
   "metadata": {},
   "source": [
    "<table><tr>\n",
    "<td> <img src=\"experiments/linear/False_1/training_train/training_idx_0.png\" alt=\"Drawing\" style=\"width: 300px;\"/> </td>\n",
    "<td> <img src=\"experiments/linear/False_1/training_test/training_idx_0.png\" alt=\"Drawing\" style=\"width: 300px;\"/> </td>\n",
    "</tr></table>"
   ]
  },
  {
   "cell_type": "markdown",
   "metadata": {},
   "source": [
    "<br>\n",
    "The loss and MSE during training is:<br>\n",
    "<img src=\"experiments/linear/False_1/loss_and_MSE.png\" alt=\"Drawing\" style=\"width: 300px\"/>"
   ]
  },
  {
   "cell_type": "markdown",
   "metadata": {},
   "source": [
    "<br>\n",
    "The comparsion between true value and predicted value for hidden variables of training data set:"
   ]
  },
  {
   "cell_type": "markdown",
   "metadata": {},
   "source": [
    "<table><tr>\n",
    "<td> <img src=\"experiments/linear/False_1/hidden_compare_train/hidden_dim_0_idx_0.png\" alt=\"Drawing\" style=\"width: 300px;\"/> </td>\n",
    "<td> <img src=\"experiments/linear/False_1/hidden_compare_train/hidden_dim_1_idx_0.png\" alt=\"Drawing\" style=\"width: 300px;\"/> </td>\n",
    "</tr></table>"
   ]
  },
  {
   "cell_type": "markdown",
   "metadata": {},
   "source": [
    "<br>\n",
    "The comparison between true and predicted value for hidden variable of testing data set:<br>\n",
    "<table><tr>\n",
    "<td> <img src=\"experiments/linear/False_1/hidden_compare_test/hidden_dim_0_idx_0.png\" alt=\"Drawing\" style=\"width: 300px;\"/> </td>\n",
    "<td> <img src=\"experiments/linear/False_1/hidden_compare_test/hidden_dim_1_idx_0.png\" alt=\"Drawing\" style=\"width: 300px;\"/> </td>\n",
    "</tr></table>"
   ]
  },
  {
   "cell_type": "markdown",
   "metadata": {},
   "source": [
    "<br>\n",
    "The comparison between true and predicted value for observation of training data set:<br>\n",
    "<table><tr>\n",
    "<td> <img src=\"experiments/linear/False_1/obs_compare_train/obs_dim_0_idx_0.png\" alt=\"Drawing\" style=\"width: 300px;\"/> </td>\n",
    "<td> <img src=\"experiments/linear/False_1/obs_compare_train/obs_dim_1_idx_0.png\" alt=\"Drawing\" style=\"width: 300px;\"/> </td>\n",
    "</tr></table>"
   ]
  },
  {
   "cell_type": "markdown",
   "metadata": {},
   "source": [
    "<br>\n",
    "The comparison between true and predicted value for observation of testing data set:<br>\n",
    "<table><tr>\n",
    "<td> <img src=\"experiments/linear/False_1/obs_compare_test/obs_dim_0_idx_0.png\" alt=\"Drawing\" style=\"width: 300px;\"/> </td>\n",
    "<td> <img src=\"experiments/linear/False_1/obs_compare_test/obs_dim_1_idx_0.png\" alt=\"Drawing\" style=\"width: 300px;\"/> </td>\n",
    "</tr></table>"
   ]
  },
  {
   "cell_type": "markdown",
   "metadata": {},
   "source": [
    "<br>\n",
    "For $f$: [FitzHugh–Nagumo model](https://en.wikipedia.org/wiki/FitzHugh%E2%80%93Nagumo_model), $g$: linear with param: [[0,1]]<br>\n",
    "\n",
    "Our training and testing data generated is as below:"
   ]
  },
  {
   "cell_type": "markdown",
   "metadata": {},
   "source": [
    "<table><tr>\n",
    "<td> <img src=\"experiments/fhn/[0,1]_False_1/training_train/training_idx_0.png\" alt=\"Drawing\" style=\"width: 300px;\"/> </td>\n",
    "<td> <img src=\"experiments/fhn/[0,1]_False_1/training_test/training_idx_0.png\" alt=\"Drawing\" style=\"width: 300px;\"/> </td>\n",
    "</tr></table>"
   ]
  },
  {
   "cell_type": "markdown",
   "metadata": {},
   "source": [
    "<br>\n",
    "The loss and MSE during training is:<br>\n",
    "<img src=\"experiments/fhn/[0,1]_False_1/loss_and_MSE.png\" alt=\"Drawing\" style=\"width: 300px\"/>"
   ]
  },
  {
   "cell_type": "markdown",
   "metadata": {},
   "source": [
    "<br>\n",
    "The comparsion between true value and predicted value for hidden variables of training data set:"
   ]
  },
  {
   "cell_type": "markdown",
   "metadata": {},
   "source": [
    "<table><tr>\n",
    "<td> <img src=\"experiments/fhn/[0,1]_False_1/hidden_compare_train/hidden_dim_0_idx_0.png\" alt=\"Drawing\" style=\"width: 300px;\"/> </td>\n",
    "<td> <img src=\"experiments/fhn/[0,1]_False_1/hidden_compare_train/hidden_dim_1_idx_0.png\" alt=\"Drawing\" style=\"width: 300px;\"/> </td>\n",
    "</tr></table>"
   ]
  },
  {
   "cell_type": "markdown",
   "metadata": {},
   "source": [
    "<br>\n",
    "The comparison between true and predicted value for hidden variables of testing data set:<br>\n",
    "<table><tr>\n",
    "<td> <img src=\"experiments/fhn/[0,1]_False_1/hidden_compare_test/hidden_dim_0_idx_0.png\" alt=\"Drawing\" style=\"width: 300px;\"/> </td>\n",
    "<td> <img src=\"experiments/fhn/[0,1]_False_1/hidden_compare_test/hidden_dim_1_idx_0.png\" alt=\"Drawing\" style=\"width: 300px;\"/> </td>\n",
    "</tr></table>"
   ]
  },
  {
   "cell_type": "markdown",
   "metadata": {},
   "source": [
    "<br>\n",
    "The comparison for observations of training and testing data set.\n",
    "<table><tr>\n",
    "<td> <img src=\"experiments/fhn/[0,1]_False_1/obs_compare_train/obs_dim_0_idx_0.png\" alt=\"Drawing\" style=\"width: 300px;\"/> </td>\n",
    "<td> <img src=\"experiments/fhn/[0,1]_False_1/obs_compare_test/obs_dim_0_idx_0.png\" alt=\"Drawing\" style=\"width: 300px;\"/> </td>\n",
    "</tr></table>"
   ]
  },
  {
   "cell_type": "markdown",
   "metadata": {},
   "source": [
    "<br>\n",
    "<br>\n",
    "For $f$: [FitzHugh–Nagumo model](https://en.wikipedia.org/wiki/FitzHugh%E2%80%93Nagumo_model), $g$: linear with param: [[1,1]]<br>\n",
    "The only difference from above $f$ and $g$ is the linear param for $g$.<br>\n",
    "\n",
    "Our training and testing data generated is as below:"
   ]
  },
  {
   "cell_type": "markdown",
   "metadata": {},
   "source": [
    "<table><tr>\n",
    "<td> <img src=\"experiments/fhn/[1,1]_False_1/training_train/training_idx_0.png\" alt=\"Drawing\" style=\"width: 300px;\"/> </td>\n",
    "<td> <img src=\"experiments/fhn/[1,1]_False_1/training_test/training_idx_0.png\" alt=\"Drawing\" style=\"width: 300px;\"/> </td>\n",
    "</tr></table>"
   ]
  },
  {
   "cell_type": "markdown",
   "metadata": {},
   "source": [
    "<br>\n",
    "The loss and MSE during training is:<br>\n",
    "<img src=\"experiments/fhn/[1,1]_False_1/loss_and_MSE.png\" alt=\"Drawing\" style=\"width: 300px\"/>"
   ]
  },
  {
   "cell_type": "markdown",
   "metadata": {},
   "source": [
    "<br>\n",
    "The comparsion between true value and predicted value for hidden variables of training data set:"
   ]
  },
  {
   "cell_type": "markdown",
   "metadata": {},
   "source": [
    "<table><tr>\n",
    "<td> <img src=\"experiments/fhn/[1,1]_False_1/hidden_compare_train/hidden_dim_0_idx_0.png\" alt=\"Drawing\" style=\"width: 300px;\"/> </td>\n",
    "<td> <img src=\"experiments/fhn/[1,1]_False_1/hidden_compare_train/hidden_dim_1_idx_0.png\" alt=\"Drawing\" style=\"width: 300px;\"/> </td>\n",
    "</tr></table>"
   ]
  },
  {
   "cell_type": "markdown",
   "metadata": {},
   "source": [
    "<br>\n",
    "The comparison between true and predicted value for hidden variables of testing data set:<br>\n",
    "<table><tr>\n",
    "<td> <img src=\"experiments/fhn/[1,1]_False_1/hidden_compare_test/hidden_dim_0_idx_0.png\" alt=\"Drawing\" style=\"width: 300px;\"/> </td>\n",
    "<td> <img src=\"experiments/fhn/[1,1]_False_1/hidden_compare_test/hidden_dim_1_idx_0.png\" alt=\"Drawing\" style=\"width: 300px;\"/> </td>\n",
    "</tr></table>"
   ]
  },
  {
   "cell_type": "markdown",
   "metadata": {},
   "source": [
    "<br>\n",
    "The comparison for observations of training and testing data set:<br>\n",
    "<table><tr>\n",
    "<td> <img src=\"experiments/fhn/[1,1]_False_1/obs_compare_train/obs_dim_0_idx_0.png\" alt=\"Drawing\" style=\"width: 300px;\"/> </td>\n",
    "<td> <img src=\"experiments/fhn/[1,1]_False_1/obs_compare_test/obs_dim_0_idx_0.png\" alt=\"Drawing\" style=\"width: 300px;\"/> </td>\n",
    "</tr></table>"
   ]
  },
  {
   "cell_type": "markdown",
   "metadata": {},
   "source": [
    "<br>\n",
    "<br>\n",
    "For $f$: [Lorenz](https://en.wikipedia.org/wiki/Lorenz_system#Lorenz_attractor), $g$: linear<br>\n",
    "\n",
    "Our training and testing data generated is as below:"
   ]
  },
  {
   "cell_type": "markdown",
   "metadata": {},
   "source": [
    "<table><tr>\n",
    "<td> <img src=\"experiments/lorenz/False_1/training_train/training_idx_0.png\" alt=\"Drawing\" style=\"width: 300px;\"/> </td>\n",
    "<td> <img src=\"experiments/lorenz/False_1/training_test/training_idx_0.png\" alt=\"Drawing\" style=\"width: 300px;\"/> </td>\n",
    "</tr></table>"
   ]
  },
  {
   "cell_type": "markdown",
   "metadata": {},
   "source": [
    "<br>\n",
    "The loss and MSE during training is:<br>\n",
    "<img src=\"experiments/lorenz/False_1/loss_and_MSE.png\" alt=\"Drawing\" style=\"width: 300px\"/>"
   ]
  },
  {
   "cell_type": "markdown",
   "metadata": {},
   "source": [
    "<br>\n",
    "The comparsion between true value and predicted value for hidden variables of training data set:"
   ]
  },
  {
   "cell_type": "markdown",
   "metadata": {},
   "source": [
    "<table><tr>\n",
    "<td> <img src=\"experiments/lorenz/False_1/hidden_compare_train/hidden_dim_0_idx_0.png\" alt=\"Drawing\" style=\"width: 300px;\"/> </td>\n",
    "<td> <img src=\"experiments/lorenz/False_1/hidden_compare_train/hidden_dim_1_idx_0.png\" alt=\"Drawing\" style=\"width: 300px;\"/> </td>\n",
    "<td> <img src=\"experiments/lorenz/False_1/hidden_compare_train/hidden_dim_2_idx_0.png\" alt=\"Drawing\" style=\"width: 300px;\"/> </td>\n",
    "</tr></table>"
   ]
  },
  {
   "cell_type": "markdown",
   "metadata": {},
   "source": [
    "<br>\n",
    "<br>\n",
    "The comparison between true and predicted value for hidden variable of testing data set:<br>\n",
    "<table><tr>\n",
    "<td> <img src=\"experiments/lorenz/False_1/hidden_compare_test/hidden_dim_0_idx_0.png\" alt=\"Drawing\" style=\"width: 300px;\"/> </td>\n",
    "<td> <img src=\"experiments/lorenz/False_1/hidden_compare_test/hidden_dim_1_idx_0.png\" alt=\"Drawing\" style=\"width: 300px;\"/> </td>\n",
    "<td> <img src=\"experiments/lorenz/False_1/hidden_compare_test/hidden_dim_2_idx_0.png\" alt=\"Drawing\" style=\"width: 300px;\"/> </td>\n",
    "</tr></table>"
   ]
  },
  {
   "cell_type": "markdown",
   "metadata": {},
   "source": [
    "<br>\n",
    "The comparison between true and predicted value for observations of training data set:<br>\n",
    "<table><tr>\n",
    "<td> <img src=\"experiments/lorenz/False_1/obs_compare_train/obs_dim_0_idx_0.png\" alt=\"Drawing\" style=\"width: 300px;\"/> </td>\n",
    "<td> <img src=\"experiments/lorenz/False_1/obs_compare_train/obs_dim_1_idx_0.png\" alt=\"Drawing\" style=\"width: 300px;\"/> </td>\n",
    "<td> <img src=\"experiments/lorenz/False_1/obs_compare_train/obs_dim_2_idx_0.png\" alt=\"Drawing\" style=\"width: 300px;\"/> </td>\n",
    "</tr></table>"
   ]
  },
  {
   "cell_type": "markdown",
   "metadata": {},
   "source": [
    "<br>\n",
    "The comparison between true and predicted value for observations of testing data set:<br>\n",
    "<table><tr>\n",
    "<td> <img src=\"experiments/lorenz/False_1/obs_compare_test/obs_dim_0_idx_0.png\" alt=\"Drawing\" style=\"width: 300px;\"/> </td>\n",
    "<td> <img src=\"experiments/lorenz/False_1/obs_compare_test/obs_dim_1_idx_0.png\" alt=\"Drawing\" style=\"width: 300px;\"/> </td>\n",
    "<td> <img src=\"experiments/lorenz/False_1/obs_compare_test/obs_dim_2_idx_0.png\" alt=\"Drawing\" style=\"width: 300px;\"/> </td>\n",
    "</tr></table>"
   ]
  },
  {
   "cell_type": "markdown",
   "metadata": {},
   "source": [
    "<br>\n",
    "<br>\n",
    "<br>\n",
    "## Further Improved Model"
   ]
  },
  {
   "cell_type": "markdown",
   "metadata": {},
   "source": [
    "<br>\n",
    "For $f$: [FitzHugh–Nagumo model](https://en.wikipedia.org/wiki/FitzHugh%E2%80%93Nagumo_model), $g$: linear with param: [[0,1]]<br>\n",
    "\n",
    "Our training and testing data generated is as below:"
   ]
  },
  {
   "cell_type": "markdown",
   "metadata": {},
   "source": [
    "<table><tr>\n",
    "<td> <img src=\"experiments/fhn/[0,1]_False_100/training_train/training_idx_0.png\" alt=\"Drawing\" style=\"width: 300px;\"/> </td>\n",
    "<td> <img src=\"experiments/fhn/[0,1]_False_100/training_test/training_idx_0.png\" alt=\"Drawing\" style=\"width: 300px;\"/> </td>\n",
    "</tr></table>"
   ]
  },
  {
   "cell_type": "markdown",
   "metadata": {},
   "source": [
    "<br>\n",
    "The loss and MSE during training is:<br>\n",
    "<img src=\"experiments/fhn/[0,1]_False_100/loss_and_MSE.png\" alt=\"Drawing\" style=\"width: 300px\"/>"
   ]
  },
  {
   "cell_type": "markdown",
   "metadata": {},
   "source": [
    "<br>\n",
    "The comparsion between true value and predicted value for hidden variables of training data set:"
   ]
  },
  {
   "cell_type": "markdown",
   "metadata": {},
   "source": [
    "<table><tr>\n",
    "<td> <img src=\"experiments/fhn/[0,1]_False_100/hidden_compare_train/hidden_dim_0_idx_0.png\" alt=\"Drawing\" style=\"width: 300px;\"/> </td>\n",
    "<td> <img src=\"experiments/fhn/[0,1]_False_100/hidden_compare_train/hidden_dim_1_idx_0.png\" alt=\"Drawing\" style=\"width: 300px;\"/> </td>\n",
    "</tr></table>"
   ]
  },
  {
   "cell_type": "markdown",
   "metadata": {},
   "source": [
    "<br>\n",
    "The comparison between true and predicted value for hidden variables of testing data set:<br>\n",
    "<table><tr>\n",
    "<td> <img src=\"experiments/fhn/[0,1]_False_100/hidden_compare_test/hidden_dim_0_idx_0.png\" alt=\"Drawing\" style=\"width: 300px;\"/> </td>\n",
    "<td> <img src=\"experiments/fhn/[0,1]_False_100/hidden_compare_test/hidden_dim_1_idx_0.png\" alt=\"Drawing\" style=\"width: 300px;\"/> </td>\n",
    "</tr></table>"
   ]
  },
  {
   "cell_type": "markdown",
   "metadata": {},
   "source": [
    "<br>\n",
    "The comparison for observations of training and testing data set.\n",
    "<table><tr>\n",
    "<td> <img src=\"experiments/fhn/[0,1]_False_100/obs_compare_train/obs_dim_0_idx_0.png\" alt=\"Drawing\" style=\"width: 300px;\"/> </td>\n",
    "<td> <img src=\"experiments/fhn/[0,1]_False_100/obs_compare_test/obs_dim_0_idx_0.png\" alt=\"Drawing\" style=\"width: 300px;\"/> </td>\n",
    "</tr></table>"
   ]
  },
  {
   "cell_type": "markdown",
   "metadata": {},
   "source": [
    "<br>\n",
    "<br>\n",
    "For $f$: [FitzHugh–Nagumo model](https://en.wikipedia.org/wiki/FitzHugh%E2%80%93Nagumo_model), $g$: linear with param: [[1,1]]<br>\n",
    "The only difference from above $f$ and $g$ is the linear param for $g$.<br>\n",
    "\n",
    "Our training and testing data generated is as below:"
   ]
  },
  {
   "cell_type": "markdown",
   "metadata": {},
   "source": [
    "<table><tr>\n",
    "<td> <img src=\"experiments/fhn/[1,1]_False_100/training_train/training_idx_0.png\" alt=\"Drawing\" style=\"width: 300px;\"/> </td>\n",
    "<td> <img src=\"experiments/fhn/[1,1]_False_100/training_test/training_idx_0.png\" alt=\"Drawing\" style=\"width: 300px;\"/> </td>\n",
    "</tr></table>"
   ]
  },
  {
   "cell_type": "markdown",
   "metadata": {},
   "source": [
    "<br>\n",
    "The loss and MSE during training is:<br>\n",
    "<img src=\"experiments/fhn/[1,1]_False_100/loss_and_MSE.png\" alt=\"Drawing\" style=\"width: 300px\"/>"
   ]
  },
  {
   "cell_type": "markdown",
   "metadata": {},
   "source": [
    "<br>\n",
    "The comparsion between true value and predicted value for hidden variables of training data set:"
   ]
  },
  {
   "cell_type": "markdown",
   "metadata": {},
   "source": [
    "<table><tr>\n",
    "<td> <img src=\"experiments/fhn/[1,1]_False_100/hidden_compare_train/hidden_dim_0_idx_0.png\" alt=\"Drawing\" style=\"width: 300px;\"/> </td>\n",
    "<td> <img src=\"experiments/fhn/[1,1]_False_100/hidden_compare_train/hidden_dim_1_idx_0.png\" alt=\"Drawing\" style=\"width: 300px;\"/> </td>\n",
    "</tr></table>"
   ]
  },
  {
   "cell_type": "markdown",
   "metadata": {},
   "source": [
    "<br>\n",
    "The comparison between true and predicted value for hidden variables of testing data set:<br>\n",
    "<table><tr>\n",
    "<td> <img src=\"experiments/fhn/[1,1]_False_100/hidden_compare_test/hidden_dim_0_idx_0.png\" alt=\"Drawing\" style=\"width: 300px;\"/> </td>\n",
    "<td> <img src=\"experiments/fhn/[1,1]_False_100/hidden_compare_test/hidden_dim_1_idx_0.png\" alt=\"Drawing\" style=\"width: 300px;\"/> </td>\n",
    "</tr></table>"
   ]
  },
  {
   "cell_type": "markdown",
   "metadata": {},
   "source": [
    "<br>\n",
    "The comparison for observations of training and testing data set:<br>\n",
    "<table><tr>\n",
    "<td> <img src=\"experiments/fhn/[1,1]_False_100/obs_compare_train/obs_dim_0_idx_0.png\" alt=\"Drawing\" style=\"width: 300px;\"/> </td>\n",
    "<td> <img src=\"experiments/fhn/[1,1]_False_100/obs_compare_test/obs_dim_0_idx_0.png\" alt=\"Drawing\" style=\"width: 300px;\"/> </td>\n",
    "</tr></table>"
   ]
  },
  {
   "cell_type": "code",
   "execution_count": null,
   "metadata": {},
   "outputs": [],
   "source": []
  }
 ],
 "metadata": {
  "kernelspec": {
   "display_name": "Python 3",
   "language": "python",
   "name": "python3"
  },
  "language_info": {
   "codemirror_mode": {
    "name": "ipython",
    "version": 3
   },
   "file_extension": ".py",
   "mimetype": "text/x-python",
   "name": "python",
   "nbconvert_exporter": "python",
   "pygments_lexer": "ipython3",
   "version": "3.6.3"
  }
 },
 "nbformat": 4,
 "nbformat_minor": 2
}
