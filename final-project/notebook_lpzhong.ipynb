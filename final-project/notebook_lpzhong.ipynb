{
 "cells": [
  {
   "cell_type": "code",
   "execution_count": 3,
   "metadata": {},
   "outputs": [],
   "source": [
    "from IPython.display import Image"
   ]
  },
  {
   "cell_type": "markdown",
   "metadata": {},
   "source": [
    "## VRNN Model"
   ]
  },
  {
   "cell_type": "markdown",
   "metadata": {},
   "source": [
    "### Model"
   ]
  },
  {
   "cell_type": "markdown",
   "metadata": {},
   "source": [
    "### Trainer"
   ]
  },
  {
   "cell_type": "markdown",
   "metadata": {},
   "source": [
    "### Experiments\n",
    "At the beginning, our team generated data using the transform function f and emission function g we set. We trained our model on the data generated and compared the true value to the prediction value to check whether our model could learn f and g well.\n",
    "\n",
    "The first f and g model we let our VRNN model learn is:<br>\n",
    "f: linear model with MVN distribution. Linear param: [[0.99,0.01],[0.2,0.8]], MVN sigma: eye(2)<br>\n",
    "g: linear model with MVN distribution. Linear param: [[2,1],[1,2]], MVN sigma: eye(2)<br>\n",
    "\n",
    "We set the length of time series to be 100 and trained our model for 100 epoches.<br>\n",
    "Our training and testing data generated is as below:"
   ]
  },
  {
   "cell_type": "markdown",
   "metadata": {},
   "source": [
    "<table><tr>\n",
    "<td> <img src=\"experiments/linear/True_1/training_train/training_idx_15.png\" alt=\"Drawing\" style=\"float:left, width: 400px;\"/> </td>\n",
    "<td> <img src=\"experiments/linear/True_1/training_test/training_idx_1.png\" alt=\"Drawing\" style=\"float:left, width: 400px;\"/> </td>\n",
    "</tr></table>"
   ]
  },
  {
   "cell_type": "markdown",
   "metadata": {},
   "source": [
    "<br>\n",
    "<br>\n",
    "The loss and MSE during training is:<br>\n",
    "<img src=\"experiments/linear/True_1/loss_and_MSE.png\" alt=\"Drawing\" style=\"width: 400px\"/>"
   ]
  },
  {
   "cell_type": "markdown",
   "metadata": {},
   "source": [
    "<br>\n",
    "<br>\n",
    "The comparsion between true value and predicted value for training hidden:"
   ]
  },
  {
   "cell_type": "markdown",
   "metadata": {},
   "source": [
    "<table><tr>\n",
    "<td> <img src=\"experiments/linear/True_1/hidden_compare_train/hidden_dim_0_idx_15.png\" alt=\"Drawing\" style=\"float:left, width: 400px;\"/> </td>\n",
    "<td> <img src=\"experiments/linear/True_1/hidden_compare_train/hidden_dim_1_idx_15.png\" alt=\"Drawing\" style=\"float:left, width: 400px;\"/> </td>\n",
    "</tr></table>"
   ]
  },
  {
   "cell_type": "markdown",
   "metadata": {},
   "source": [
    "<br>\n",
    "<br>\n",
    "The comparison between true and predicted value for testing hidden:<br>\n",
    "<table><tr>\n",
    "<td> <img src=\"experiments/linear/True_1/hidden_compare_test/hidden_dim_0_idx_1.png\" alt=\"Drawing\" style=\"float:left, width: 400px;\"/> </td>\n",
    "<td> <img src=\"experiments/linear/True_1/hidden_compare_test/hidden_dim_1_idx_1.png\" alt=\"Drawing\" style=\"float:left, width: 400px;\"/> </td>\n",
    "</tr></table>"
   ]
  },
  {
   "cell_type": "markdown",
   "metadata": {},
   "source": [
    "<br>\n",
    "<br>\n",
    "The comparison between true and predicted value for training observation:<br>\n",
    "<table><tr>\n",
    "<td> <img src=\"experiments/linear/True_1/obs_compare_train/obs_dim_0_idx_15.png\" alt=\"Drawing\" style=\"float:left, width: 400px;\"/> </td>\n",
    "<td> <img src=\"experiments/linear/True_1/obs_compare_train/obs_dim_1_idx_15.png\" alt=\"Drawing\" style=\"float:left, width: 400px;\"/> </td>\n",
    "</tr></table>"
   ]
  },
  {
   "cell_type": "markdown",
   "metadata": {},
   "source": [
    "<br>\n",
    "<br>\n",
    "The comparison between true and predicted value for testing observation:<br>\n",
    "<table><tr>\n",
    "<td> <img src=\"experiments/linear/True_1/obs_compare_test/obs_dim_0_idx_1.png\" alt=\"Drawing\" style=\"float:left, width: 400px;\"/> </td>\n",
    "<td> <img src=\"experiments/linear/True_1/obs_compare_test/obs_dim_1_idx_1.png\" alt=\"Drawing\" style=\"float:left, width: 400px;\"/> </td>\n",
    "</tr></table>"
   ]
  },
  {
   "cell_type": "markdown",
   "metadata": {},
   "source": [
    "<br>\n",
    "<br>\n",
    "<br>\n",
    "The second f and g model we let our VRNN model learn is:<br>\n",
    "f: Fhn model with Delta distribution. Fhn param: (1.0, 0.95, 0.05, 1.0, 0.15)<br>\n",
    "g: linear model with MVN distribution. Linear param: [[0,1]], MVN sigma: 0.2 * eye(1)<br>\n",
    "\n",
    "We set the length of time series to be 100 and trained our model for 100 epoches.<br>\n",
    "Our training and testing data generated is as below:"
   ]
  },
  {
   "cell_type": "markdown",
   "metadata": {},
   "source": [
    "<table><tr>\n",
    "<td> <img src=\"experiments/fhn/[0,1]_True_1/training_train/training_idx_0.png\" alt=\"Drawing\" style=\"float:left, width: 400px;\"/> </td>\n",
    "<td> <img src=\"experiments/fhn/[0,1]_True_1/training_test/training_idx_0.png\" alt=\"Drawing\" style=\"float:left, width: 400px;\"/> </td>\n",
    "</tr></table>"
   ]
  },
  {
   "cell_type": "markdown",
   "metadata": {},
   "source": [
    "<br>\n",
    "<br>\n",
    "The loss and MSE during training is:<br>\n",
    "<img src=\"experiments/fhn/[0,1]_True_1/loss_and_MSE.png\" alt=\"Drawing\" style=\"width: 400px\"/>"
   ]
  },
  {
   "cell_type": "markdown",
   "metadata": {},
   "source": [
    "<br>\n",
    "<br>\n",
    "The comparsion between true value and predicted value for training hidden:"
   ]
  },
  {
   "cell_type": "markdown",
   "metadata": {},
   "source": [
    "<table><tr>\n",
    "<td> <img src=\"experiments/fhn/[0,1]_True_1/hidden_compare_train/hidden_dim_0_idx_0.png\" alt=\"Drawing\" style=\"float:left, width: 400px;\"/> </td>\n",
    "<td> <img src=\"experiments/fhn/[0,1]_True_1/hidden_compare_train/hidden_dim_1_idx_0.png\" alt=\"Drawing\" style=\"float:left, width: 400px;\"/> </td>\n",
    "</tr></table>"
   ]
  },
  {
   "cell_type": "markdown",
   "metadata": {},
   "source": [
    "<br>\n",
    "<br>\n",
    "The comparison between true and predicted value for testing hidden:<br>\n",
    "<table><tr>\n",
    "<td> <img src=\"experiments/fhn/[0,1]_True_1/hidden_compare_test/hidden_dim_0_idx_0.png\" alt=\"Drawing\" style=\"float:left, width: 400px;\"/> </td>\n",
    "<td> <img src=\"experiments/fhn/[0,1]_True_1/hidden_compare_test/hidden_dim_1_idx_0.png\" alt=\"Drawing\" style=\"float:left, width: 400px;\"/> </td>\n",
    "</tr></table>"
   ]
  },
  {
   "cell_type": "markdown",
   "metadata": {},
   "source": [
    "<br>\n",
    "<br>\n",
    "The comparison for training and testing observation\n",
    "<table><tr>\n",
    "<td> <img src=\"experiments/fhn/[0,1]_True_1/obs_compare_train/obs_dim_0_idx_0.png\" alt=\"Drawing\" style=\"float:left, width: 400px;\"/> </td>\n",
    "<td> <img src=\"experiments/fhn/[0,1]_True_1/obs_compare_test/obs_dim_0_idx_0.png\" alt=\"Drawing\" style=\"float:left, width: 400px;\"/> </td>\n",
    "</tr></table>"
   ]
  },
  {
   "cell_type": "markdown",
   "metadata": {},
   "source": [
    "<br>\n",
    "<br>\n",
    "<br>\n",
    "The third f and g model we let our VRNN model learn is:<br>\n",
    "f: Fhn model with Delta distribution. Fhn param: (1.0, 0.95, 0.05, 1.0, 0.15)<br>\n",
    "g: linear model with MVN distribution. Linear param: [[1,1]], MVN sigma: 0.2 * eye(1)<br>\n",
    "\n",
    "We set the length of time series to be 100 and trained our model for 100 epoches.<br>\n",
    "Our training and testing data generated is as below:"
   ]
  },
  {
   "cell_type": "markdown",
   "metadata": {},
   "source": [
    "<table><tr>\n",
    "<td> <img src=\"experiments/fhn/[1,1]_True_1/training_train/training_idx_0.png\" alt=\"Drawing\" style=\"float:left, width: 400px;\"/> </td>\n",
    "<td> <img src=\"experiments/fhn/[1,1]_True_1/training_test/training_idx_0.png\" alt=\"Drawing\" style=\"float:left, width: 400px;\"/> </td>\n",
    "</tr></table>"
   ]
  },
  {
   "cell_type": "markdown",
   "metadata": {},
   "source": [
    "<br>\n",
    "<br>\n",
    "The loss and MSE during training is:<br>\n",
    "<img src=\"experiments/fhn/[1,1]_True_1/loss_and_MSE.png\" alt=\"Drawing\" style=\"width: 400px\"/>"
   ]
  },
  {
   "cell_type": "markdown",
   "metadata": {},
   "source": [
    "<br>\n",
    "<br>\n",
    "The comparsion between true value and predicted value for training hidden:"
   ]
  },
  {
   "cell_type": "markdown",
   "metadata": {},
   "source": [
    "<table><tr>\n",
    "<td> <img src=\"experiments/fhn/[1,1]_True_1/hidden_compare_train/hidden_dim_0_idx_0.png\" alt=\"Drawing\" style=\"float:left, width: 400px;\"/> </td>\n",
    "<td> <img src=\"experiments/fhn/[1,1]_True_1/hidden_compare_train/hidden_dim_1_idx_0.png\" alt=\"Drawing\" style=\"float:left, width: 400px;\"/> </td>\n",
    "</tr></table>"
   ]
  },
  {
   "cell_type": "markdown",
   "metadata": {},
   "source": [
    "<br>\n",
    "<br>\n",
    "The comparison between true and predicted value for testing hidden:<br>\n",
    "<table><tr>\n",
    "<td> <img src=\"experiments/fhn/[1,1]_True_1/hidden_compare_test/hidden_dim_0_idx_0.png\" alt=\"Drawing\" style=\"float:left, width: 400px;\"/> </td>\n",
    "<td> <img src=\"experiments/fhn/[1,1]_True_1/hidden_compare_test/hidden_dim_1_idx_0.png\" alt=\"Drawing\" style=\"float:left, width: 400px;\"/> </td>\n",
    "</tr></table>"
   ]
  },
  {
   "cell_type": "markdown",
   "metadata": {},
   "source": [
    "<br>\n",
    "<br>\n",
    "The comparison for training and testing observation\n",
    "<table><tr>\n",
    "<td> <img src=\"experiments/fhn/[1,1]_True_1/obs_compare_train/obs_dim_0_idx_0.png\" alt=\"Drawing\" style=\"float:left, width: 400px;\"/> </td>\n",
    "<td> <img src=\"experiments/fhn/[1,1]_True_1/obs_compare_test/obs_dim_0_idx_0.png\" alt=\"Drawing\" style=\"float:left, width: 400px;\"/> </td>\n",
    "</tr></table>"
   ]
  },
  {
   "cell_type": "markdown",
   "metadata": {},
   "source": [
    "<br>\n",
    "<br>\n",
    "<br>\n",
    "The fourth f and g model we let our VRNN model learn is:<br>\n",
    "f: Lorenz model with Delta distribution. Lorenz param: (10.0, 28.0, 8.0 / 3.0, 0.01)<br>\n",
    "g: linear model with MVN distribution. Linear param: np.random.randn(3, 3), MVN sigma: 0.2 * eye(3)<br>\n",
    "\n",
    "We set the length of time series to be 200 and trained our model for 100 epoches.<br>\n",
    "Our training and testing data generated is as below:"
   ]
  },
  {
   "cell_type": "markdown",
   "metadata": {},
   "source": [
    "<table><tr>\n",
    "<td> <img src=\"experiments/lorenz/True_1/training_train/training_idx_0.png\" alt=\"Drawing\" style=\"float:left, width: 400px;\"/> </td>\n",
    "<td> <img src=\"experiments/lorenz/True_1/training_test/training_idx_0.png\" alt=\"Drawing\" style=\"float:left, width: 400px;\"/> </td>\n",
    "</tr></table>"
   ]
  },
  {
   "cell_type": "markdown",
   "metadata": {},
   "source": [
    "<br>\n",
    "<br>\n",
    "The loss and MSE during training is:<br>\n",
    "<img src=\"experiments/lorenz/True_1/loss_and_MSE.png\" alt=\"Drawing\" style=\"width: 400px\"/>"
   ]
  },
  {
   "cell_type": "markdown",
   "metadata": {},
   "source": [
    "<br>\n",
    "<br>\n",
    "The comparsion between true value and predicted value for training hidden:"
   ]
  },
  {
   "cell_type": "markdown",
   "metadata": {},
   "source": [
    "<table><tr>\n",
    "<td> <img src=\"experiments/lorenz/True_1/hidden_compare_train/hidden_dim_0_idx_0.png\" alt=\"Drawing\" style=\"float:left, width: 400px;\"/> </td>\n",
    "<td> <img src=\"experiments/lorenz/True_1/hidden_compare_train/hidden_dim_1_idx_0.png\" alt=\"Drawing\" style=\"float:left, width: 400px;\"/> </td>\n",
    "<td> <img src=\"experiments/lorenz/True_1/hidden_compare_train/hidden_dim_2_idx_0.png\" alt=\"Drawing\" style=\"float:left, width: 400px;\"/> </td>\n",
    "</tr></table>"
   ]
  },
  {
   "cell_type": "markdown",
   "metadata": {},
   "source": [
    "<br>\n",
    "<br>\n",
    "The comparison between true and predicted value for testing hidden:<br>\n",
    "<table><tr>\n",
    "<td> <img src=\"experiments/lorenz/True_1/hidden_compare_test/hidden_dim_0_idx_0.png\" alt=\"Drawing\" style=\"float:left, width: 400px;\"/> </td>\n",
    "<td> <img src=\"experiments/lorenz/True_1/hidden_compare_test/hidden_dim_1_idx_0.png\" alt=\"Drawing\" style=\"float:left, width: 400px;\"/> </td>\n",
    "<td> <img src=\"experiments/lorenz/True_1/hidden_compare_test/hidden_dim_2_idx_0.png\" alt=\"Drawing\" style=\"float:left, width: 400px;\"/> </td>\n",
    "</tr></table>"
   ]
  },
  {
   "cell_type": "markdown",
   "metadata": {},
   "source": [
    "<br>\n",
    "<br>\n",
    "The comparison between true and predicted value for training observation:<br>\n",
    "<table><tr>\n",
    "<td> <img src=\"experiments/lorenz/True_1/obs_compare_train/obs_dim_0_idx_0.png\" alt=\"Drawing\" style=\"float:left, width: 400px;\"/> </td>\n",
    "<td> <img src=\"experiments/lorenz/True_1/obs_compare_train/obs_dim_1_idx_0.png\" alt=\"Drawing\" style=\"float:left, width: 400px;\"/> </td>\n",
    "<td> <img src=\"experiments/lorenz/True_1/obs_compare_train/obs_dim_2_idx_0.png\" alt=\"Drawing\" style=\"float:left, width: 400px;\"/> </td>\n",
    "</tr></table>"
   ]
  },
  {
   "cell_type": "markdown",
   "metadata": {},
   "source": [
    "<br>\n",
    "<br>\n",
    "The comparison between true and predicted value for testing observation:<br>\n",
    "<table><tr>\n",
    "<td> <img src=\"experiments/lorenz/True_1/obs_compare_test/obs_dim_0_idx_0.png\" alt=\"Drawing\" style=\"float:left, width: 400px;\"/> </td>\n",
    "<td> <img src=\"experiments/lorenz/True_1/obs_compare_test/obs_dim_1_idx_0.png\" alt=\"Drawing\" style=\"float:left, width: 400px;\"/> </td>\n",
    "<td> <img src=\"experiments/lorenz/True_1/obs_compare_test/obs_dim_2_idx_0.png\" alt=\"Drawing\" style=\"float:left, width: 400px;\"/> </td>\n",
    "</tr></table>"
   ]
  },
  {
   "cell_type": "markdown",
   "metadata": {},
   "source": [
    "<br>\n",
    "<br>\n",
    "<br>\n",
    "<br>\n",
    "## Improved Model"
   ]
  },
  {
   "cell_type": "markdown",
   "metadata": {},
   "source": [
    "### Model"
   ]
  },
  {
   "cell_type": "markdown",
   "metadata": {},
   "source": [
    "### Trainer"
   ]
  },
  {
   "cell_type": "markdown",
   "metadata": {},
   "source": [
    "### Experiments"
   ]
  },
  {
   "cell_type": "markdown",
   "metadata": {},
   "source": [
    "After the improvements of the model, we still first let the model learn the f and g from generated data.<br>\n"
   ]
  }
 ],
 "metadata": {
  "kernelspec": {
   "display_name": "Python 3",
   "language": "python",
   "name": "python3"
  },
  "language_info": {
   "codemirror_mode": {
    "name": "ipython",
    "version": 3
   },
   "file_extension": ".py",
   "mimetype": "text/x-python",
   "name": "python",
   "nbconvert_exporter": "python",
   "pygments_lexer": "ipython3",
   "version": "3.6.3"
  }
 },
 "nbformat": 4,
 "nbformat_minor": 2
}
